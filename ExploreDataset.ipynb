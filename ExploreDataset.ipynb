{
 "cells": [
  {
   "cell_type": "markdown",
   "metadata": {},
   "source": [
    "# Dataset Explore\n",
    "This dataset is organized in different folders, but we're actually interested on a pair of input images and the expected label that highlight differences between the 2 input images"
   ]
  },
  {
   "cell_type": "code",
   "execution_count": 1,
   "metadata": {},
   "outputs": [],
   "source": [
    "from tqdm import tqdm\n",
    "import numpy as np\n",
    "import PIL\n",
    "from PIL import Image\n",
    "import matplotlib.pyplot as plt\n",
    "from IPython.display import clear_output, display\n",
    "from ipywidgets import interact, interactive, fixed, interact_manual\n",
    "import ipywidgets as widgets\n",
    "import pickle\n",
    "\n",
    "train_file_list = '../ChangeDataset/train.txt'\n",
    "val_file_list = '../ChangeDataset/val.txt'\n",
    "base_data_dir = '../ChangeDataset/'\n",
    "train_pickle_file = 'change_dataset_train.pkl'\n",
    "val_pickle_file = 'change_dataset_val.pkl'\n",
    "\n",
    "validation_set = {}\n",
    "training_set = {}\n",
    "\n",
    "image_size = 256"
   ]
  },
  {
   "cell_type": "markdown",
   "metadata": {},
   "source": [
    "#### Parse the path files"
   ]
  },
  {
   "cell_type": "code",
   "execution_count": 2,
   "metadata": {},
   "outputs": [
    {
     "name": "stdout",
     "output_type": "stream",
     "text": [
      "Length Training Set: 73276\n",
      "Length Validation Set: 18319\n"
     ]
    }
   ],
   "source": [
    "train_file_list = [line.rstrip('\\n').split() for line in open(train_file_list)]\n",
    "val_file_list = [line.rstrip('\\n').split() for line in open(val_file_list)]\n",
    "print('Length Training Set:', len(train_file_list))\n",
    "print('Length Validation Set:', len(val_file_list))\n",
    "size_train = len(train_file_list)\n",
    "size_validation = len(val_file_list)"
   ]
  },
  {
   "cell_type": "markdown",
   "metadata": {},
   "source": [
    "#### Load Validation Set On Memory"
   ]
  },
  {
   "cell_type": "code",
   "execution_count": 3,
   "metadata": {},
   "outputs": [
    {
     "name": "stderr",
     "output_type": "stream",
     "text": [
      "100%|██████████| 18319/18319 [05:54<00:00, 54.50it/s]\n"
     ]
    }
   ],
   "source": [
    "for idx, entry in enumerate(tqdm(val_file_list)):\n",
    "    # Load the reference, test and label images\n",
    "    reference_img = Image.open(base_data_dir + entry[0])\n",
    "    test_img = Image.open(base_data_dir + entry[1])\n",
    "    label_img = Image.open(base_data_dir + entry[2])\n",
    "    # Resize images\n",
    "    reference_img = reference_img.resize((image_size, image_size), PIL.Image.ANTIALIAS)\n",
    "    test_img = test_img.resize((image_size, image_size), PIL.Image.ANTIALIAS)\n",
    "    label_img = label_img.resize((image_size, image_size), PIL.Image.ANTIALIAS)\n",
    "    # Populate validation dictionary with tupple (reference,test,label)\n",
    "    validation_set[idx] = reference_img, test_img, label_img    "
   ]
  },
  {
   "cell_type": "markdown",
   "metadata": {},
   "source": [
    "#### Load Training Set On Memory"
   ]
  },
  {
   "cell_type": "code",
   "execution_count": null,
   "metadata": {},
   "outputs": [
    {
     "name": "stderr",
     "output_type": "stream",
     "text": [
      " 43%|████▎     | 31628/73276 [10:16<14:00, 49.55it/s]"
     ]
    }
   ],
   "source": [
    "for idx, entry in enumerate(tqdm(train_file_list)):\n",
    "    # Load the reference, test and label images\n",
    "    reference_img = Image.open(base_data_dir + entry[0])\n",
    "    test_img = Image.open(base_data_dir + entry[1])\n",
    "    label_img = Image.open(base_data_dir + entry[2])\n",
    "    # Resize images\n",
    "    reference_img = reference_img.resize((image_size, image_size), PIL.Image.ANTIALIAS)\n",
    "    test_img = test_img.resize((image_size, image_size), PIL.Image.ANTIALIAS)\n",
    "    label_img = label_img.resize((image_size, image_size), PIL.Image.ANTIALIAS)\n",
    "    # Populate validation dictionary with tupple (reference,test,label)\n",
    "    training_set[idx] = reference_img, test_img, label_img    "
   ]
  },
  {
   "cell_type": "markdown",
   "metadata": {},
   "source": [
    "#### Save Dictionaries"
   ]
  },
  {
   "cell_type": "code",
   "execution_count": null,
   "metadata": {},
   "outputs": [],
   "source": [
    "print('Saving Pickle Training Set')\n",
    "with open(train_pickle_file, 'wb') as handle:\n",
    "    pickle.dump(training_set, handle, protocol=4)\n",
    "    \n",
    "print('Saving Pickle Validation Set')\n",
    "with open(val_pickle_file, 'wb') as handle:\n",
    "    pickle.dump(validation_set, handle, protocol=4)"
   ]
  },
  {
   "cell_type": "markdown",
   "metadata": {},
   "source": [
    "## Explore"
   ]
  },
  {
   "cell_type": "code",
   "execution_count": null,
   "metadata": {},
   "outputs": [],
   "source": [
    "@interact(idx=widgets.IntSlider(min=0,max=size_validation-1))\n",
    "def explore_validation_dataset(idx):\n",
    "    reference_numpy = np.array(validation_set[idx][0])\n",
    "    test_numpy = np.array(validation_set[idx][1])\n",
    "    label_numpy = np.array(validation_set[idx][2])\n",
    "    print('Label shape:', label_numpy.shape)\n",
    "    #plt.imshow(label_numpy)\n",
    "    #plt.show()\n",
    "    fig=plt.figure(figsize=(16, 16))\n",
    "    columns = 3\n",
    "    rows = 1\n",
    "    fig.add_subplot(1, 3, 1)\n",
    "    plt.imshow(reference_numpy)\n",
    "    fig.add_subplot(1, 3, 2)\n",
    "    plt.imshow(test_numpy)\n",
    "    fig.add_subplot(1, 3, 3)\n",
    "    plt.imshow(label_numpy)\n",
    "    plt.show()"
   ]
  }
 ],
 "metadata": {
  "kernelspec": {
   "display_name": "Python 3",
   "language": "python",
   "name": "python3"
  },
  "language_info": {
   "codemirror_mode": {
    "name": "ipython",
    "version": 3
   },
   "file_extension": ".py",
   "mimetype": "text/x-python",
   "name": "python",
   "nbconvert_exporter": "python",
   "pygments_lexer": "ipython3",
   "version": "3.7.3"
  }
 },
 "nbformat": 4,
 "nbformat_minor": 4
}
