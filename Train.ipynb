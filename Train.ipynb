{
 "cells": [
  {
   "cell_type": "markdown",
   "metadata": {},
   "source": [
    "# Train Model\n",
    "\n",
    "#### References\n",
    "* https://pytorch.org/tutorials/beginner/finetuning_torchvision_models_tutorial.html\n",
    "* https://pytorch.org/tutorials/beginner/saving_loading_models.html\n",
    "* https://pytorch.org/tutorials/beginner/data_loading_tutorial.html"
   ]
  },
  {
   "cell_type": "code",
   "execution_count": 1,
   "metadata": {},
   "outputs": [
    {
     "name": "stdout",
     "output_type": "stream",
     "text": [
      "PyTorch Version:  1.1.0\n",
      "Torchvision Version:  0.3.0\n",
      "Device: cuda:0\n",
      "Number of GPUs Available: 8\n"
     ]
    }
   ],
   "source": [
    "import torch\n",
    "import torch.nn as nn\n",
    "import torch.optim as optim\n",
    "from torch.utils.tensorboard import SummaryWriter\n",
    "import numpy as np\n",
    "import torchvision\n",
    "from torchvision import datasets, models, transforms\n",
    "import models\n",
    "import utils_train\n",
    "import change_dataset_np\n",
    "import matplotlib.pyplot as plt\n",
    "print(\"PyTorch Version: \",torch.__version__)\n",
    "print(\"Torchvision Version: \",torchvision.__version__)\n",
    "\n",
    "from IPython.display import clear_output, display\n",
    "from ipywidgets import interact, interactive, fixed, interact_manual\n",
    "import ipywidgets as widgets\n",
    "\n",
    "# Hyperparameters\n",
    "num_epochs = 25\n",
    "num_classes = 2\n",
    "batch_size = 100\n",
    "img_size = 224\n",
    "base_lr = 1e-4\n",
    "\n",
    "device = torch.device(\"cuda:0\" if torch.cuda.is_available() else \"cpu\")\n",
    "print('Device:', device)\n",
    "num_gpu = torch.cuda.device_count()\n",
    "batch_size *= num_gpu\n",
    "base_lr *= num_gpu\n",
    "print('Number of GPUs Available:', num_gpu)\n",
    "\n",
    "train_pickle_file = 'change_dataset_train.pkl'\n",
    "val_pickle_file = 'change_dataset_train.pkl'"
   ]
  },
  {
   "cell_type": "markdown",
   "metadata": {},
   "source": [
    "#### Define Transformation"
   ]
  },
  {
   "cell_type": "code",
   "execution_count": 2,
   "metadata": {},
   "outputs": [],
   "source": [
    "#transforms.Normalize([0.485, 0.456, 0.406], [0.229, 0.224, 0.225])\n",
    "data_transforms = {\n",
    "    'train': transforms.Compose([\n",
    "        transforms.RandomResizedCrop(img_size),\n",
    "        transforms.RandomHorizontalFlip(),\n",
    "        transforms.ToTensor()        \n",
    "    ]),\n",
    "    'val': transforms.Compose([\n",
    "        transforms.Resize(img_size),\n",
    "        transforms.CenterCrop(img_size),\n",
    "        transforms.ToTensor()        \n",
    "    ]),\n",
    "}"
   ]
  },
  {
   "cell_type": "markdown",
   "metadata": {},
   "source": [
    "#### Load Dataset"
   ]
  },
  {
   "cell_type": "code",
   "execution_count": 3,
   "metadata": {},
   "outputs": [],
   "source": [
    "# Create training and validation datasets\n",
    "train_dataset = change_dataset_np.ChangeDatasetNumpy(train_pickle_file, data_transforms['train'])\n",
    "val_dataset = change_dataset_np.ChangeDatasetNumpy(val_pickle_file, data_transforms['val'])\n",
    "image_datasets = {'train': train_dataset, 'val': val_dataset}\n",
    "# Create training and validation dataloaders\n",
    "train_loader = torch.utils.data.DataLoader(train_dataset, batch_size=batch_size, shuffle=True, num_workers=16)\n",
    "val_loader = torch.utils.data.DataLoader(val_dataset, batch_size=batch_size, shuffle=False, num_workers=16)\n",
    "#dataloaders_dict = {x: torch.utils.data.DataLoader(image_datasets[x], batch_size=batch_size, shuffle=True, num_workers=8) for x in ['train', 'val']}\n",
    "dataloaders_dict = {'train': train_loader, 'val': val_loader}"
   ]
  },
  {
   "cell_type": "markdown",
   "metadata": {},
   "source": [
    "#### Start Tensorboard Interface"
   ]
  },
  {
   "cell_type": "code",
   "execution_count": 4,
   "metadata": {},
   "outputs": [],
   "source": [
    "# Default directory \"runs\"\n",
    "writer = SummaryWriter()"
   ]
  },
  {
   "cell_type": "markdown",
   "metadata": {},
   "source": [
    "#### Initialize Model"
   ]
  },
  {
   "cell_type": "code",
   "execution_count": 5,
   "metadata": {},
   "outputs": [
    {
     "name": "stderr",
     "output_type": "stream",
     "text": [
      "/mnt/anaconda3/lib/python3.7/site-packages/torch/onnx/symbolic.py:173: UserWarning: ONNX export failed on upsample_bilinear2d because align_corners == True not supported\n",
      "  warnings.warn(\"ONNX export failed on \" + op + \" because \" + msg + \" not supported\")\n"
     ]
    }
   ],
   "source": [
    "img_reference_dummy = torch.randn(1,3,img_size,img_size)\n",
    "img_test_dummy = torch.randn(1,3,img_size,img_size)\n",
    "change_net = models.ChangeNet(num_classes=num_classes)\n",
    "\n",
    "# Add on Tensorboard the Model Graph\n",
    "writer.add_graph(change_net, [img_reference_dummy, img_test_dummy])"
   ]
  },
  {
   "cell_type": "markdown",
   "metadata": {},
   "source": [
    "#### Send Model to GPUs (If Available)"
   ]
  },
  {
   "cell_type": "code",
   "execution_count": 6,
   "metadata": {},
   "outputs": [],
   "source": [
    "if num_gpu > 1:\n",
    "    change_net = nn.DataParallel(change_net)\n",
    "change_net = change_net.to(device)"
   ]
  },
  {
   "cell_type": "markdown",
   "metadata": {},
   "source": [
    "#### Load Weights"
   ]
  },
  {
   "cell_type": "code",
   "execution_count": null,
   "metadata": {},
   "outputs": [],
   "source": []
  },
  {
   "cell_type": "markdown",
   "metadata": {},
   "source": [
    "#### Initialize Loss Functions and Optimizers"
   ]
  },
  {
   "cell_type": "code",
   "execution_count": 7,
   "metadata": {},
   "outputs": [],
   "source": [
    "criterion = nn.CrossEntropyLoss()\n",
    "optimizer = optim.Adam(change_net.parameters(), lr=base_lr)    \n",
    "sc_plt = torch.optim.lr_scheduler.ReduceLROnPlateau(optimizer, patience=4, verbose=True)    "
   ]
  },
  {
   "cell_type": "markdown",
   "metadata": {},
   "source": [
    "#### Train Model"
   ]
  },
  {
   "cell_type": "code",
   "execution_count": null,
   "metadata": {},
   "outputs": [
    {
     "name": "stdout",
     "output_type": "stream",
     "text": [
      "Epoch 0/24\n",
      "----------\n",
      "train Loss: 1.0199\n",
      "val Loss: 0.9525\n",
      "Epoch 1/24\n",
      "----------\n",
      "train Loss: 0.9144\n",
      "val Loss: 0.8898\n",
      "Epoch 2/24\n",
      "----------\n",
      "train Loss: 0.8429\n",
      "val Loss: 0.8255\n",
      "Epoch 3/24\n",
      "----------\n",
      "train Loss: 0.7834\n",
      "val Loss: 0.7773\n",
      "Epoch 4/24\n",
      "----------\n",
      "train Loss: 0.7300\n",
      "val Loss: 0.7183\n",
      "Epoch 5/24\n",
      "----------\n",
      "train Loss: 0.6808\n",
      "val Loss: 0.6717\n",
      "Epoch 6/24\n",
      "----------\n",
      "train Loss: 0.6349\n",
      "val Loss: 0.6251\n",
      "Epoch 7/24\n",
      "----------\n",
      "train Loss: 0.5920\n",
      "val Loss: 0.5807\n",
      "Epoch 8/24\n",
      "----------\n",
      "train Loss: 0.5515\n",
      "val Loss: 0.5376\n",
      "Epoch 9/24\n",
      "----------\n",
      "train Loss: 0.5137\n",
      "val Loss: 0.5066\n",
      "Epoch 10/24\n",
      "----------\n",
      "train Loss: 0.4787\n",
      "val Loss: 0.4639\n",
      "Epoch 11/24\n",
      "----------\n",
      "train Loss: 0.4460\n",
      "val Loss: 0.4351\n",
      "Epoch 12/24\n",
      "----------\n",
      "train Loss: 0.4162\n",
      "val Loss: 0.4063\n",
      "Epoch 13/24\n",
      "----------\n",
      "train Loss: 0.3887\n",
      "val Loss: 0.3742\n",
      "Epoch 14/24\n",
      "----------\n",
      "train Loss: 0.3633\n",
      "val Loss: 0.3536\n",
      "Epoch 15/24\n",
      "----------\n",
      "train Loss: 0.3404\n",
      "val Loss: 0.3269\n",
      "Epoch 16/24\n",
      "----------\n",
      "train Loss: 0.3196\n",
      "val Loss: 0.3058\n",
      "Epoch 17/24\n",
      "----------\n",
      "train Loss: 0.3005\n",
      "val Loss: 0.2974\n",
      "Epoch 18/24\n",
      "----------\n",
      "train Loss: 0.2831\n",
      "val Loss: 0.2699\n",
      "Epoch 19/24\n",
      "----------\n",
      "train Loss: 0.2679\n",
      "val Loss: 0.2534\n",
      "Epoch 20/24\n",
      "----------\n",
      "train Loss: 0.2534\n",
      "val Loss: 0.2420\n",
      "Epoch 21/24\n",
      "----------\n",
      "train Loss: 0.2408\n"
     ]
    }
   ],
   "source": [
    "best_model, _ = utils_train.train_model(change_net, dataloaders_dict, criterion, optimizer, writer, device, num_epochs=num_epochs)\n",
    "torch.save(best_model.state_dict(), './best_model.pkl')"
   ]
  },
  {
   "cell_type": "code",
   "execution_count": null,
   "metadata": {},
   "outputs": [],
   "source": [
    "@interact(idx=widgets.IntSlider(min=0,max=len(val_dataset)-1))\n",
    "def explore_validation_dataset(idx):\n",
    "    best_model.eval()\n",
    "    sample = val_dataset[idx]\n",
    "    reference = sample['reference'].unsqueeze(0)\n",
    "    test = sample['test'].unsqueeze(0)\n",
    "    #label = sample['label'].type(torch.LongTensor).squeeze(0).cpu().numpy()\n",
    "    label = (sample['label']>0).type(torch.LongTensor).squeeze(0).cpu().numpy()\n",
    "    pred = best_model([reference, test])\n",
    "    #print(pred.shape)\n",
    "    _, output = torch.max(pred, 1)\n",
    "    output = output.squeeze(0).cpu().numpy()\n",
    "    fig=plt.figure(figsize=(16, 16))\n",
    "    #fig.add_subplot(1, 2, 1)\n",
    "    #plt.imshow(reference)\n",
    "    #fig.add_subplot(1, 4, 2)\n",
    "    #plt.imshow(test)\n",
    "    fig.add_subplot(1, 2, 1)\n",
    "    plt.imshow(label)\n",
    "    fig.add_subplot(1, 2, 2)\n",
    "    plt.imshow(output)\n",
    "    plt.show()\n",
    "    print(np.max(label))\n",
    "    print(np.max(output))"
   ]
  },
  {
   "cell_type": "code",
   "execution_count": null,
   "metadata": {},
   "outputs": [],
   "source": []
  }
 ],
 "metadata": {
  "kernelspec": {
   "display_name": "Python 3",
   "language": "python",
   "name": "python3"
  },
  "language_info": {
   "codemirror_mode": {
    "name": "ipython",
    "version": 3
   },
   "file_extension": ".py",
   "mimetype": "text/x-python",
   "name": "python",
   "nbconvert_exporter": "python",
   "pygments_lexer": "ipython3",
   "version": "3.7.3"
  }
 },
 "nbformat": 4,
 "nbformat_minor": 4
}
