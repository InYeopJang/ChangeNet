{
 "cells": [
  {
   "cell_type": "markdown",
   "metadata": {},
   "source": [
    "# Tests Loss\n",
    "On this notebook we will exercise the expected input/target for segmentation loss.\n",
    "```python\n",
    "n_class = 10\n",
    "batch_size = 4\n",
    "img_size = 224\n",
    "preds = torch.randn(batch_size, num_classes, img_size, img_size)\n",
    "labels = torch.empty(batch_size, img_size, img_size, dtype=torch.long).random_(n_class)\n",
    "\n",
    "criterion = nn.CrossEntropyLoss()\n",
    "loss = criterion(preds, labels)\n",
    "```\n",
    "#### References\n",
    "* https://discuss.pytorch.org/t/the-cost-function-for-semantic-segmentation/27668/2\n",
    "* https://discuss.pytorch.org/t/multi-class-cross-entropy-loss-function-implementation-in-pytorch/19077/12\n",
    "* https://github.com/CSAILVision/semantic-segmentation-pytorch"
   ]
  },
  {
   "cell_type": "code",
   "execution_count": 1,
   "metadata": {},
   "outputs": [
    {
     "name": "stdout",
     "output_type": "stream",
     "text": [
      "PyTorch Version:  1.1.0\n",
      "Device: cuda:0\n",
      "Number of GPUs Available: 8\n"
     ]
    }
   ],
   "source": [
    "import torch\n",
    "import torch.nn as nn\n",
    "import torch.optim as optim\n",
    "import numpy as np\n",
    "import models\n",
    "print(\"PyTorch Version: \",torch.__version__)\n",
    "num_classes = 3\n",
    "batch_size = 100\n",
    "img_size = 224\n",
    "\n",
    "device = torch.device(\"cuda:0\" if torch.cuda.is_available() else \"cpu\")\n",
    "#device = 'cpu'\n",
    "print('Device:', device)\n",
    "num_gpu = torch.cuda.device_count()\n",
    "batch_size *= num_gpu\n",
    "print('Number of GPUs Available:', num_gpu)"
   ]
  },
  {
   "cell_type": "markdown",
   "metadata": {},
   "source": [
    "#### Define expected labels, model output"
   ]
  },
  {
   "cell_type": "code",
   "execution_count": 2,
   "metadata": {},
   "outputs": [
    {
     "name": "stdout",
     "output_type": "stream",
     "text": [
      "preds.shape: torch.Size([800, 3, 224, 224])\n",
      "labels.shape: torch.Size([800, 224, 224])\n"
     ]
    }
   ],
   "source": [
    "preds = torch.randn(batch_size, num_classes, img_size, img_size).to(device)\n",
    "labels = torch.empty(batch_size, img_size, img_size, dtype=torch.long).random_(num_classes).to(device)\n",
    "print('preds.shape:', preds.shape)\n",
    "print('labels.shape:', labels.shape)"
   ]
  },
  {
   "cell_type": "markdown",
   "metadata": {},
   "source": [
    "#### Try Cross-Entropy Loss\n",
    "If you use this loss you don't need to use the softmax activation"
   ]
  },
  {
   "cell_type": "code",
   "execution_count": 3,
   "metadata": {},
   "outputs": [
    {
     "name": "stdout",
     "output_type": "stream",
     "text": [
      "Loss: tensor(1.3899, device='cuda:0')\n"
     ]
    }
   ],
   "source": [
    "criterion = nn.CrossEntropyLoss()\n",
    "loss = criterion(preds, labels)\n",
    "print('Loss:',loss)"
   ]
  },
  {
   "cell_type": "markdown",
   "metadata": {},
   "source": [
    "#### Try on Model"
   ]
  },
  {
   "cell_type": "code",
   "execution_count": 4,
   "metadata": {},
   "outputs": [
    {
     "name": "stdout",
     "output_type": "stream",
     "text": [
      "preds.shape: torch.Size([800, 3, 224, 224])\n",
      "Loss: tensor(1.3680, device='cuda:0', grad_fn=<NllLoss2DBackward>)\n"
     ]
    }
   ],
   "source": [
    "img_reference = torch.randn(batch_size,3,224,224).to(device)\n",
    "img_test = torch.randn(batch_size,3,224,224).to(device)\n",
    "change_net = models.ChangeNet(num_classes=num_classes)\n",
    "if num_gpu > 1:\n",
    "    change_net = nn.DataParallel(change_net)\n",
    "change_net = change_net.to(device)\n",
    "\n",
    "preds = change_net([img_reference, img_test])\n",
    "print('preds.shape:', preds.shape)\n",
    "criterion = nn.CrossEntropyLoss()\n",
    "loss = criterion(preds, labels)\n",
    "print('Loss:',loss)"
   ]
  }
 ],
 "metadata": {
  "kernelspec": {
   "display_name": "Python 3",
   "language": "python",
   "name": "python3"
  },
  "language_info": {
   "codemirror_mode": {
    "name": "ipython",
    "version": 3
   },
   "file_extension": ".py",
   "mimetype": "text/x-python",
   "name": "python",
   "nbconvert_exporter": "python",
   "pygments_lexer": "ipython3",
   "version": "3.7.3"
  }
 },
 "nbformat": 4,
 "nbformat_minor": 4
}
